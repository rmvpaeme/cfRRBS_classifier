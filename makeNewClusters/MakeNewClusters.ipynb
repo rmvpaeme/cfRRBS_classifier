{
 "cells": [
  {
   "cell_type": "code",
   "execution_count": 3,
   "metadata": {
    "collapsed": true
   },
   "outputs": [],
   "source": [
    "import pandas as pd\n",
    "import numpy as np\n",
    "from pybedtools import BedTool"
   ]
  },
  {
   "cell_type": "code",
   "execution_count": 5,
   "metadata": {},
   "outputs": [
    {
     "name": "stdout",
     "output_type": "stream",
     "text": [
      "The number of lines in the 450k file is: 470870\n",
      "1\t15865\t15866\tcg13869341\t1\n",
      " 1\t18827\t18828\tcg14008030\t1\n",
      " 1\t29407\t29408\tcg12045430\t1\n",
      " 1\t29425\t29426\tcg20826792\t1\n",
      " 1\t29435\t29436\tcg00381604\t1\n",
      " 1\t68849\t68850\tcg20253340\t1\n",
      " 1\t69591\t69592\tcg21870274\t1\n",
      " 1\t91550\t91551\tcg03130891\t1\n",
      " 1\t135252\t135253\tcg24335620\t1\n",
      " 1\t449076\t449077\tcg16162899\t1\n",
      " "
     ]
    }
   ],
   "source": [
    "## Read in Illumina array CSV with locations, dropNA and set ints as str\n",
    "illumina450kfile = \"HumanMethylation450_15017482_v1-2.csv\"\n",
    "array450k = pd.read_csv(illumina450kfile, dtype={\"CHR\": str}, header = 7, usecols = (0,10,11,12))\n",
    "array450k = array450k.dropna()\n",
    "array450k[['MAPINFO', 'Genome_Build']] = array450k[['MAPINFO', 'Genome_Build']].astype(int)\n",
    "## Extract locations with genome build GRCh37\n",
    "array450k = array450k[array450k['Genome_Build'] == 37]\n",
    "array450k = array450k.drop(['Genome_Build'], axis = 1)\n",
    "## Drop X and Y\n",
    "array450k = array450k.loc[~array450k['CHR'].isin(['X','Y'])]\n",
    "array450k[['CHR', 'MAPINFO']] = array450k[['CHR', 'MAPINFO']].astype(int)\n",
    "## Rearrange to represent a bed file\n",
    "array450k[\"MAPINFO_Stop\"] = array450k[\"MAPINFO\"].astype(int) + 1  #BEDfiles are start 0-based and end 1-based\n",
    "array450k = array450k[[\"CHR\", \"MAPINFO\", \"MAPINFO_Stop\", \"IlmnID\"]]\n",
    "array450k.sort_values(by = [\"CHR\", \"MAPINFO\"], inplace=True)\n",
    "array450k.rename(index=str, columns={\"CHR\": \"chr\", \"MAPINFO\": \"start\", \"MAPINFO_Stop\": \"stop\", \"IlmnID\": \"ilmnid\"}, inplace=True)\n",
    "## Print a row with 1s (= number of IlmnIDs in on that locus)\n",
    "array450k[\"cpg_number\"] = 1\n",
    "\n",
    "#convert to a pybedtools object\n",
    "array450k_bedobj = BedTool.from_dataframe(array450k)\n",
    "\n",
    "print(\"The number of lines in the 450k file is: %i\" % array450k_bedobj.count())\n",
    "array450k_bedobj.head()"
   ]
  },
  {
   "cell_type": "code",
   "execution_count": 6,
   "metadata": {},
   "outputs": [
    {
     "name": "stderr",
     "output_type": "stream",
     "text": [
      "/Users/rmvpaeme/anaconda3/lib/python3.6/site-packages/IPython/core/interactiveshell.py:2698: DtypeWarning: Columns (0) have mixed types. Specify dtype option on import or set low_memory=False.\n",
      "  interactivity=interactivity, compiler=compiler, result=result)\n"
     ]
    },
    {
     "name": "stdout",
     "output_type": "stream",
     "text": [
      "The number of lines in the RRBS file is: 725894\n"
     ]
    },
    {
     "data": {
      "text/html": [
       "<div>\n",
       "<style scoped>\n",
       "    .dataframe tbody tr th:only-of-type {\n",
       "        vertical-align: middle;\n",
       "    }\n",
       "\n",
       "    .dataframe tbody tr th {\n",
       "        vertical-align: top;\n",
       "    }\n",
       "\n",
       "    .dataframe thead th {\n",
       "        text-align: right;\n",
       "    }\n",
       "</style>\n",
       "<table border=\"1\" class=\"dataframe\">\n",
       "  <thead>\n",
       "    <tr style=\"text-align: right;\">\n",
       "      <th></th>\n",
       "      <th>chr</th>\n",
       "      <th>start</th>\n",
       "      <th>stop</th>\n",
       "    </tr>\n",
       "  </thead>\n",
       "  <tbody>\n",
       "    <tr>\n",
       "      <th>0</th>\n",
       "      <td>1</td>\n",
       "      <td>10497</td>\n",
       "      <td>10588</td>\n",
       "    </tr>\n",
       "    <tr>\n",
       "      <th>1</th>\n",
       "      <td>1</td>\n",
       "      <td>10589</td>\n",
       "      <td>10640</td>\n",
       "    </tr>\n",
       "    <tr>\n",
       "      <th>2</th>\n",
       "      <td>1</td>\n",
       "      <td>10641</td>\n",
       "      <td>10669</td>\n",
       "    </tr>\n",
       "    <tr>\n",
       "      <th>3</th>\n",
       "      <td>1</td>\n",
       "      <td>10670</td>\n",
       "      <td>10698</td>\n",
       "    </tr>\n",
       "    <tr>\n",
       "      <th>4</th>\n",
       "      <td>1</td>\n",
       "      <td>10699</td>\n",
       "      <td>10727</td>\n",
       "    </tr>\n",
       "  </tbody>\n",
       "</table>\n",
       "</div>"
      ],
      "text/plain": [
       "  chr  start   stop\n",
       "0   1  10497  10588\n",
       "1   1  10589  10640\n",
       "2   1  10641  10669\n",
       "3   1  10670  10698\n",
       "4   1  10699  10727"
      ]
     },
     "execution_count": 6,
     "metadata": {},
     "output_type": "execute_result"
    }
   ],
   "source": [
    "## Load in the theoretical covered RRBS regions (made with mkrr2genome)\n",
    "RRBSfile = \"RRBS_regions20-200.bed\"\n",
    "RRBS = pd.read_csv(RRBSfile, sep = \"\\t\", header = None)\n",
    "RRBS.rename(index=str, columns={0: \"chr\", 1: \"start\", 2: \"stop\"}, inplace=True)\n",
    "\n",
    "print(\"The number of lines in the RRBS file is: %i\" % RRBS.shape[0])\n",
    "RRBS.head()"
   ]
  },
  {
   "cell_type": "code",
   "execution_count": 8,
   "metadata": {},
   "outputs": [
    {
     "name": "stdout",
     "output_type": "stream",
     "text": [
      "The number of lines in the RRBS file is: 403572\n",
      "1\t10497\t11479\n",
      " 1\t11763\t11959\n",
      " 1\t12271\t12354\n",
      " 1\t12586\t12778\n",
      " 1\t14791\t14887\n",
      " 1\t15089\t15188\n",
      " 1\t15720\t16081\n",
      " 1\t16822\t16973\n",
      " 1\t17562\t17852\n",
      " 1\t21002\t21023\n",
      " "
     ]
    }
   ],
   "source": [
    "## In the RRBS file, the stop position is sometimes only 1 nt before the next start position.\n",
    "## Merge these to reduce the number of regions\n",
    "RRBS_bedobj = BedTool.from_dataframe(RRBS)\n",
    "RRBS_merged = RRBS_bedobj.merge(d=1)\n",
    "print(\"The number of lines in the RRBS file is: %i\" % RRBS_merged.count())\n",
    "RRBS_merged.head()"
   ]
  },
  {
   "cell_type": "code",
   "execution_count": 9,
   "metadata": {},
   "outputs": [
    {
     "name": "stdout",
     "output_type": "stream",
     "text": [
      "The number of lines in the merged RRBS and 450k file is: 403572\n",
      "1\t10497\t11479\t0\n",
      " 1\t11763\t11959\t0\n",
      " 1\t12271\t12354\t0\n",
      " 1\t12586\t12778\t0\n",
      " 1\t14791\t14887\t0\n",
      " 1\t15089\t15188\t0\n",
      " 1\t15720\t16081\t1\n",
      " 1\t16822\t16973\t0\n",
      " 1\t17562\t17852\t0\n",
      " 1\t21002\t21023\t0\n",
      " "
     ]
    }
   ],
   "source": [
    "## Find the intersecting regions between the RRBS and 450k file, including the number of CpGs that are in the intersecting region\n",
    "RRBS_and_450k = RRBS_merged.intersect(array450k_bedobj, wa=True, c = True)\n",
    "print(\"The number of lines in the merged RRBS and 450k file is: %i\" % RRBS_and_450k.count())\n",
    "RRBS_and_450k.head()\n"
   ]
  },
  {
   "cell_type": "code",
   "execution_count": 10,
   "metadata": {},
   "outputs": [
    {
     "name": "stdout",
     "output_type": "stream",
     "text": [
      "The number of lines in the merged RRBS and 450k file after removing 0-2 CpG in 450k file: 14103\n",
      "The number of CpGs from the 450k array covered by this method: 61750\n"
     ]
    },
    {
     "name": "stderr",
     "output_type": "stream",
     "text": [
      "/Users/rmvpaeme/anaconda3/lib/python3.6/site-packages/IPython/core/interactiveshell.py:2698: DtypeWarning: Columns (0) have mixed types. Specify dtype option on import or set low_memory=False.\n",
      "  interactivity=interactivity, compiler=compiler, result=result)\n"
     ]
    },
    {
     "data": {
      "text/html": [
       "<div>\n",
       "<style scoped>\n",
       "    .dataframe tbody tr th:only-of-type {\n",
       "        vertical-align: middle;\n",
       "    }\n",
       "\n",
       "    .dataframe tbody tr th {\n",
       "        vertical-align: top;\n",
       "    }\n",
       "\n",
       "    .dataframe thead th {\n",
       "        text-align: right;\n",
       "    }\n",
       "</style>\n",
       "<table border=\"1\" class=\"dataframe\">\n",
       "  <thead>\n",
       "    <tr style=\"text-align: right;\">\n",
       "      <th></th>\n",
       "      <th>chrom</th>\n",
       "      <th>start</th>\n",
       "      <th>stop</th>\n",
       "      <th>cpg_in_450k</th>\n",
       "    </tr>\n",
       "  </thead>\n",
       "  <tbody>\n",
       "    <tr>\n",
       "      <th>14</th>\n",
       "      <td>1</td>\n",
       "      <td>29165</td>\n",
       "      <td>29483</td>\n",
       "      <td>3</td>\n",
       "    </tr>\n",
       "    <tr>\n",
       "      <th>61</th>\n",
       "      <td>1</td>\n",
       "      <td>567122</td>\n",
       "      <td>567401</td>\n",
       "      <td>4</td>\n",
       "    </tr>\n",
       "    <tr>\n",
       "      <th>88</th>\n",
       "      <td>1</td>\n",
       "      <td>762982</td>\n",
       "      <td>763181</td>\n",
       "      <td>3</td>\n",
       "    </tr>\n",
       "    <tr>\n",
       "      <th>112</th>\n",
       "      <td>1</td>\n",
       "      <td>844314</td>\n",
       "      <td>845703</td>\n",
       "      <td>3</td>\n",
       "    </tr>\n",
       "    <tr>\n",
       "      <th>131</th>\n",
       "      <td>1</td>\n",
       "      <td>859816</td>\n",
       "      <td>860118</td>\n",
       "      <td>3</td>\n",
       "    </tr>\n",
       "  </tbody>\n",
       "</table>\n",
       "</div>"
      ],
      "text/plain": [
       "    chrom   start    stop  cpg_in_450k\n",
       "14      1   29165   29483            3\n",
       "61      1  567122  567401            4\n",
       "88      1  762982  763181            3\n",
       "112     1  844314  845703            3\n",
       "131     1  859816  860118            3"
      ]
     },
     "execution_count": 10,
     "metadata": {},
     "output_type": "execute_result"
    }
   ],
   "source": [
    "## Back to pandas dataframe\n",
    "RRBS_450k_intersect = pd.read_table(RRBS_and_450k.fn, names=['chrom', 'start', 'stop', 'cpg_in_450k'])\n",
    "\n",
    "## Remove all RRBS regions that are spanning less than 3 CpGs on the microarray\n",
    "RRBS_450k_intersect = RRBS_450k_intersect.loc[~RRBS_450k_intersect['cpg_in_450k'].isin(['0','1','2'])]\n",
    "\n",
    "print(\"The number of lines in the merged RRBS and 450k file after removing 0-2 CpG in 450k file: %i\" % RRBS_450k_intersect.shape[0])\n",
    "print(\"The number of CpGs from the 450k array covered by this method: %i\" % RRBS_450k_intersect['cpg_in_450k'].sum())\n",
    "RRBS_450k_intersect.head()"
   ]
  },
  {
   "cell_type": "code",
   "execution_count": 11,
   "metadata": {
    "collapsed": true
   },
   "outputs": [],
   "source": [
    "## Drop the number column\n",
    "RRBS_450k_intersect.drop(\"cpg_in_450k\", axis = 1, inplace = True)"
   ]
  },
  {
   "cell_type": "code",
   "execution_count": 12,
   "metadata": {
    "collapsed": true
   },
   "outputs": [],
   "source": [
    "## Add a new column with the clusterID number\n",
    "RRBS_450k_intersect = RRBS_450k_intersect.reset_index(drop=True)\n",
    "RRBS_450k_intersect['clusterID'] = range(1, len(RRBS_450k_intersect)+1)"
   ]
  },
  {
   "cell_type": "code",
   "execution_count": 13,
   "metadata": {},
   "outputs": [
    {
     "data": {
      "text/html": [
       "<div>\n",
       "<style scoped>\n",
       "    .dataframe tbody tr th:only-of-type {\n",
       "        vertical-align: middle;\n",
       "    }\n",
       "\n",
       "    .dataframe tbody tr th {\n",
       "        vertical-align: top;\n",
       "    }\n",
       "\n",
       "    .dataframe thead th {\n",
       "        text-align: right;\n",
       "    }\n",
       "</style>\n",
       "<table border=\"1\" class=\"dataframe\">\n",
       "  <thead>\n",
       "    <tr style=\"text-align: right;\">\n",
       "      <th></th>\n",
       "      <th>chrom</th>\n",
       "      <th>start</th>\n",
       "      <th>stop</th>\n",
       "      <th>clusterID</th>\n",
       "    </tr>\n",
       "  </thead>\n",
       "  <tbody>\n",
       "    <tr>\n",
       "      <th>0</th>\n",
       "      <td>1</td>\n",
       "      <td>29165</td>\n",
       "      <td>29483</td>\n",
       "      <td>1</td>\n",
       "    </tr>\n",
       "    <tr>\n",
       "      <th>1</th>\n",
       "      <td>1</td>\n",
       "      <td>567122</td>\n",
       "      <td>567401</td>\n",
       "      <td>2</td>\n",
       "    </tr>\n",
       "    <tr>\n",
       "      <th>2</th>\n",
       "      <td>1</td>\n",
       "      <td>762982</td>\n",
       "      <td>763181</td>\n",
       "      <td>3</td>\n",
       "    </tr>\n",
       "    <tr>\n",
       "      <th>3</th>\n",
       "      <td>1</td>\n",
       "      <td>844314</td>\n",
       "      <td>845703</td>\n",
       "      <td>4</td>\n",
       "    </tr>\n",
       "    <tr>\n",
       "      <th>4</th>\n",
       "      <td>1</td>\n",
       "      <td>859816</td>\n",
       "      <td>860118</td>\n",
       "      <td>5</td>\n",
       "    </tr>\n",
       "  </tbody>\n",
       "</table>\n",
       "</div>"
      ],
      "text/plain": [
       "  chrom   start    stop  clusterID\n",
       "0     1   29165   29483          1\n",
       "1     1  567122  567401          2\n",
       "2     1  762982  763181          3\n",
       "3     1  844314  845703          4\n",
       "4     1  859816  860118          5"
      ]
     },
     "execution_count": 13,
     "metadata": {},
     "output_type": "execute_result"
    }
   ],
   "source": [
    "RRBS_450k_intersect.head()"
   ]
  },
  {
   "cell_type": "code",
   "execution_count": 150,
   "metadata": {
    "collapsed": true
   },
   "outputs": [],
   "source": [
    "RRBS_450k_intersect.to_csv(\"RRBS_450k_intersectClusters.tsv\", index = None, sep = \"\\t\")"
   ]
  },
  {
   "cell_type": "code",
   "execution_count": null,
   "metadata": {
    "collapsed": true
   },
   "outputs": [],
   "source": []
  }
 ],
 "metadata": {
  "kernelspec": {
   "display_name": "Python 3",
   "language": "python",
   "name": "python3"
  },
  "language_info": {
   "codemirror_mode": {
    "name": "ipython",
    "version": 3
   },
   "file_extension": ".py",
   "mimetype": "text/x-python",
   "name": "python",
   "nbconvert_exporter": "python",
   "pygments_lexer": "ipython3",
   "version": "3.6.8"
  }
 },
 "nbformat": 4,
 "nbformat_minor": 2
}
